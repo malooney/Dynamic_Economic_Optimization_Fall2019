{
 "cells": [
  {
   "cell_type": "code",
   "execution_count": 5,
   "metadata": {},
   "outputs": [],
   "source": [
    "%matplotlib inline\n",
    "\n",
    "import numpy as np\n",
    "import matplotlib.pyplot as plt\n",
    "\n",
    "from compecon import BasisChebyshev, NLP, nodeunif\n",
    "from compecon.demos import demo\n",
    "\n",
    "from ipywidgets import interact, interactive, fixed, interact_manual\n",
    "import ipywidgets as widgets\n",
    "\n",
    "plt.rcParams[\"figure.figsize\"] = (8,8)"
   ]
  },
  {
   "cell_type": "code",
   "execution_count": 6,
   "metadata": {},
   "outputs": [
    {
     "data": {
      "application/vnd.jupyter.widget-view+json": {
       "model_id": "08c87ca495b44927ad1e69c34c495796",
       "version_major": 2,
       "version_minor": 0
      },
      "text/plain": [
       "interactive(children=(IntSlider(value=2, description='nFirm', max=50, min=1), Output()), _dom_classes=('widget…"
      ]
     },
     "metadata": {},
     "output_type": "display_data"
    }
   ],
   "source": [
    "def cournotPlot(nFirm=2):\n",
    "    alpha, eta = 1.0, 1.5\n",
    "    D = lambda p: p**(-eta)\n",
    "    n= 25; a= 0.1; b= 3.0;\n",
    "    S = BasisChebyshev(n, a, b, labels=['price'], l=['supply'])\n",
    "    p = S.nodes\n",
    "    S.y = np.ones_like(p)\n",
    "    \n",
    "    def resid(c):\n",
    "        S.c = c  # update interpolation coefficients\n",
    "        q = S(p) # compute quantity supplied at price nodes\n",
    "        return p - q * (p ** (eta+1) / eta) - alpha * np.sqrt(q) - q ** 2\n",
    "\n",
    "    cournot = NLP(resid)\n",
    "    S.c = cournot.broyden(S.c, tol=1e-12)\n",
    "    \n",
    "    pplot = nodeunif(501, a, b)\n",
    "    demo.figure('Cournot Effective Firm Supply Function', \n",
    "            'Quantity', 'Price', [0, nFirm], [a, b])\n",
    "    plt.plot(nFirm* S(pplot), pplot, D(pplot), pplot)\n",
    "    plt.legend(('Supply','Demand'))\n",
    "    plt.show();\n",
    "\n",
    "interact(cournotPlot, nFirm=(1, 50))"
   ]
  }
 ],
 "metadata": {
  "kernelspec": {
   "display_name": "Python 3",
   "language": "python",
   "name": "python3"
  },
  "language_info": {
   "codemirror_mode": {
    "name": "ipython",
    "version": 3
   },
   "file_extension": ".py",
   "mimetype": "text/x-python",
   "name": "python",
   "nbconvert_exporter": "python",
   "pygments_lexer": "ipython3",
   "version": "3.7.3"
  }
 },
 "nbformat": 4,
 "nbformat_minor": 4
}
